{
  "nbformat": 4,
  "nbformat_minor": 0,
  "metadata": {
    "colab": {
      "name": "jun_13_2022.ipynb",
      "provenance": []
    },
    "kernelspec": {
      "name": "python3",
      "display_name": "Python 3"
    },
    "language_info": {
      "name": "python"
    }
  },
  "cells": [
    {
      "cell_type": "code",
      "execution_count": null,
      "metadata": {
        "id": "gcu8dprdSjCY"
      },
      "outputs": [],
      "source": [
        "# A convenience function to plot the decision region\n",
        "# This replaces the plotting method that's part of sklearn version 1.1.1\n",
        "def plotit(X, Y, model):\n",
        "    # Plot the decision boundary. For that, we will assign a color to each\n",
        "    # point in the mesh [x_min, x_max]x[y_min, y_max].\n",
        "    x_min, x_max = X[:, 0].min() - .5, X[:, 0].max() + .5\n",
        "    y_min, y_max = X[:, 1].min() - .5, X[:, 1].max() + .5\n",
        "    h = .02  # step size in the mesh\n",
        "    xx, yy = np.meshgrid(np.arange(x_min, x_max, h), np.arange(y_min, y_max, h))\n",
        "    Z = model.predict(np.c_[xx.ravel(), yy.ravel()])\n",
        "\n",
        "    # Plotting below requires integer target variables (for colors)\n",
        "    # However, sklearn algorithm handles categorical variables automagically\n",
        "    if isinstance(Y[0], str):\n",
        "        print(\"Converting strings to integers for plotting\")\n",
        "        Z = pd.factorize(Z)[0]\n",
        "        Y = pd.factorize(Y)[0]\n",
        "\n",
        "    # Put the result into a color plot\n",
        "    Z = Z.reshape(xx.shape)\n",
        "    plt.figure(1, figsize=(4, 3))\n",
        "    plt.pcolormesh(xx, yy, Z, cmap=plt.cm.Paired)\n",
        "\n",
        "    # Plot also the training points\n",
        "    plt.scatter(X[:, 0], X[:, 1], c=Y, edgecolors='k', cmap=plt.cm.Paired)\n",
        "    plt.xlabel('Sepal length')\n",
        "    plt.ylabel('Sepal width')\n",
        "\n",
        "    plt.xlim(xx.min(), xx.max())\n",
        "    plt.ylim(yy.min(), yy.max())\n",
        "    plt.xticks(())\n",
        "    plt.yticks(());"
      ]
    },
    {
      "cell_type": "code",
      "source": [
        "# This code comes right from the documentation\n",
        "# The exception: sklearn docs use v1.1.1 and a decision-region plotting function\n",
        "# I'm using the \"plotit\" function above instead\n",
        "import matplotlib.pyplot as plt\n",
        "from sklearn.linear_model import LogisticRegression\n",
        "from sklearn import datasets\n",
        "import numpy as np\n",
        "\n",
        "# import some data to play with\n",
        "iris = datasets.load_iris()\n",
        "X = iris.data[:, :2]  # we only take the first two features.\n",
        "Y = iris.target\n",
        "\n",
        "# Create an instance of Logistic Regression Classifier and fit the data.\n",
        "logreg = LogisticRegression(C=1e5)\n",
        "logreg.fit(X, Y)\n",
        "\n",
        "plotit(X, Y, logreg)\n",
        "\n",
        "# Plot also the training points\n",
        "plt.scatter(X[:, 0], X[:, 1], c=Y, edgecolors=\"k\", cmap=plt.cm.Paired)\n",
        "\n",
        "plt.xticks(())\n",
        "plt.yticks(())\n",
        "\n",
        "plt.show()"
      ],
      "metadata": {
        "colab": {
          "base_uri": "https://localhost:8080/",
          "height": 208
        },
        "id": "49oXrxIXT-_o",
        "outputId": "bd6299eb-634f-4f87-c8ca-c313dafe88d5"
      },
      "execution_count": null,
      "outputs": [
        {
          "output_type": "display_data",
          "data": {
            "text/plain": [
              "<Figure size 288x216 with 1 Axes>"
            ],
            "image/png": "[encoded data removed]"
          },
          "metadata": {}
        }
      ]
    },
    {
      "cell_type": "markdown",
      "source": [
        "$$\n",
        "z = w_0 + \\sum_{i=1}^p w_i x_i = \\mathbf{w}^T \\mathbf{x}\n",
        "$$\n",
        "Note that $z$ can take on any value from $- \\infty $ to $+ \\infty$.\n",
        "With logistic regression, we model the log-odds as a linear function of $z$. \n",
        "$$\n",
        "\\mathrm{log} \\left( \\frac{p}{1-p} \\right) = \\mathrm{logit}(p) = z\n",
        "$$\n",
        "This is where the term logistic regression comes from. We're \"fitting\" a line to the log-odds (${p}/{(1-p)}$ is the odds of a positive outcome). With least-squares linear regression, we minimize MSE. With logistic regression, we maximize the log likelihood as defined by Eqn (4.5) on p135. Note that this function weights the data according to whether or not they are correctly classified (hence the two products in Eqn 4.5).\n",
        "\n",
        "Note: If the errors in linear regression have a normal distribution, then least-squares is also maximum likelihood.\n",
        "\n",
        "We can solve this equation for $p$, which yields an \"activation function\" $\\phi(z)$\n",
        "$$\n",
        "p(z) = \\phi(z) = \\frac{1}{1 + e^{-z}} = \\mathrm{sigmoid(z)}\n",
        "$$\n",
        "Note that the tensorflow playground allowed you to select an activation function, one of which was sigmoid."
      ],
      "metadata": {
        "id": "e-uvw4b9UjBu"
      }
    },
    {
      "cell_type": "markdown",
      "source": [
        "EXERCISE: Reproduce Figure 4.2 on p133 of ISLR2"
      ],
      "metadata": {
        "id": "HYozv3fpUoBu"
      }
    },
    {
      "cell_type": "code",
      "source": [
        "Y_1D = iris.target[:100]\n",
        "X_1D = iris.data[:100, :1] \n",
        "\n",
        "assert X_1D.shape == (100,1)\n",
        "assert Y_1D.shape == (100,)\n",
        "\n"
      ],
      "metadata": {
        "colab": {
          "base_uri": "https://localhost:8080/"
        },
        "id": "lzxxMqDWW1q9",
        "outputId": "232f205d-8a63-4858-b87d-3fcbfc52c28e"
      },
      "execution_count": null,
      "outputs": [
        {
          "output_type": "execute_result",
          "data": {
            "text/plain": [
              "array([0, 0, 0, 0, 0, 0, 0, 0, 0, 0, 0, 0, 0, 0, 0, 0, 0, 0, 0, 0, 0, 0,\n",
              "       0, 0, 0, 0, 0, 0, 0, 0, 0, 0, 0, 0, 0, 0, 0, 0, 0, 0, 0, 0, 0, 0,\n",
              "       0, 0, 0, 0, 0, 0, 1, 1, 1, 1, 1, 1, 1, 1, 1, 1, 1, 1, 1, 1, 1, 1,\n",
              "       1, 1, 1, 1, 1, 1, 1, 1, 1, 1, 1, 1, 1, 1, 1, 1, 1, 1, 1, 1, 1, 1,\n",
              "       1, 1, 1, 1, 1, 1, 1, 1, 1, 1, 1, 1])"
            ]
          },
          "metadata": {},
          "execution_count": 15
        }
      ]
    }
  ]
}